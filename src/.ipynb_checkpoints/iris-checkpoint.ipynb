{
 "cells": [
  {
   "cell_type": "markdown",
   "metadata": {},
   "source": [
    "## Iris Dataset "
   ]
  },
  {
   "cell_type": "code",
   "execution_count": 53,
   "metadata": {},
   "outputs": [
    {
     "name": "stdout",
     "output_type": "stream",
     "text": [
      "⠋ Calculating Feature Importance⠙ Calculating Feature Importance⠹ Calculating Feature Importance⠸ Calculating Feature Importance⠼ Calculating Feature Importance⠴ Calculating Feature Importance⠦ Calculating Feature Importance⠧ Calculating Feature Importance⠇ Calculating Feature Importance⠏ Calculating Feature Importance⠋ Calculating Feature Importance⠙ Calculating Feature Importance⠹ Calculating Feature Importance⠸ Calculating Feature Importance⠼ Calculating Feature Importance⠴ Calculating Feature Importance⠦ Calculating Feature Importance⠧ Calculating Feature Importance⠇ Calculating Feature Importance⠏ Calculating Feature Importance⠋ Calculating Feature Importance⠙ Calculating Feature Importance⠹ Calculating Feature Importance⠸ Calculating Feature Importance⠼ Calculating Feature Importance⠴ Calculating Feature Importance⠦ Calculating Feature Importance⠧ Calculating Feature Importance⠇ Calculating Feature Importance⠏ Calculating Feature Importance⠋ Calculating Feature Importance⠙ Calculating Feature Importance⠹ Calculating Feature Importance⠸ Calculating Feature Importance⠼ Calculating Feature Importance⠴ Calculating Feature Importance⠦ Calculating Feature Importance⠧ Calculating Feature Importance⠇ Calculating Feature Importance⠏ Calculating Feature Importance⠋ Calculating Feature Importance⠙ Calculating Feature Importance⠹ Calculating Feature Importance⠸ Calculating Feature Importance⠼ Calculating Feature Importance⠴ Calculating Feature Importance⠦ Calculating Feature Importance⠧ Calculating Feature Importance⠇ Calculating Feature Importance⠏ Calculating Feature Importance⠋ Calculating Feature Importance⠙ Calculating Feature Importance⠹ Calculating Feature Importance⠸ Calculating Feature Importance⠼ Calculating Feature Importance⠴ Calculating Feature Importance⠦ Calculating Feature Importance⠧ Calculating Feature Importance⠇ Calculating Feature Importance⠏ Calculating Feature Importance⠋ Calculating Feature Importance⠙ Calculating Feature Importance⠹ Calculating Feature Importance⠸ Calculating Feature Importance⠼ Calculating Feature Importance⠴ Calculating Feature Importance⠦ Calculating Feature Importance⠧ Calculating Feature Importance⠇ Calculating Feature Importance⠏ Calculating Feature Importance⠋ Calculating Feature Importance⠙ Calculating Feature Importance⠹ Calculating Feature Importance⠸ Calculating Feature Importance\r"
     ]
    },
    {
     "data": {
      "text/plain": [
       "['sepal length (cm)',\n",
       " 'sepal width (cm)',\n",
       " 'petal length (cm)',\n",
       " 'petal width (cm)']"
      ]
     },
     "execution_count": 53,
     "metadata": {},
     "output_type": "execute_result"
    }
   ],
   "source": [
    "%matplotlib inline\n",
    "\n",
    "from sklearn import datasets\n",
    "\n",
    "from analysis import classify\n",
    "\n",
    "import pandas as pd\n",
    "\n",
    "iris = datasets.load_iris()\n",
    "\n",
    "columns = iris['feature_names']\n",
    "\n",
    "df = pd.DataFrame(iris.data, columns = columns)\n",
    "\n",
    "result = classify(df.values, iris.target, standardize_data=False, columns=columns)\n",
    "\n",
    "result = result[0]\n",
    "\n",
    "columns\n"
   ]
  },
  {
   "cell_type": "code",
   "execution_count": 51,
   "metadata": {},
   "outputs": [
    {
     "data": {
      "text/html": [
       "<div>\n",
       "<style>\n",
       "    .dataframe thead tr:only-child th {\n",
       "        text-align: right;\n",
       "    }\n",
       "\n",
       "    .dataframe thead th {\n",
       "        text-align: left;\n",
       "    }\n",
       "\n",
       "    .dataframe tbody tr th {\n",
       "        vertical-align: top;\n",
       "    }\n",
       "</style>\n",
       "<table border=\"1\" class=\"dataframe\">\n",
       "  <thead>\n",
       "    <tr style=\"text-align: right;\">\n",
       "      <th></th>\n",
       "      <th>KNN</th>\n",
       "      <th>LOG</th>\n",
       "      <th>SVC</th>\n",
       "    </tr>\n",
       "  </thead>\n",
       "  <tbody>\n",
       "    <tr>\n",
       "      <th>0</th>\n",
       "      <td>0.977778</td>\n",
       "      <td>0.977778</td>\n",
       "      <td>0.933333</td>\n",
       "    </tr>\n",
       "  </tbody>\n",
       "</table>\n",
       "</div>"
      ],
      "text/plain": [
       "        KNN       LOG       SVC\n",
       "0  0.977778  0.977778  0.933333"
      ]
     },
     "execution_count": 51,
     "metadata": {},
     "output_type": "execute_result"
    }
   ],
   "source": [
    "knn_ = result[\"KNN\"]\n",
    "\n",
    "log = result[\"log\"]\n",
    "\n",
    "svc = result[\"svc\"]\n",
    "\n",
    "obj = {\n",
    "    \"KNN\": knn_,\n",
    "    \"LOG\": log,\n",
    "    \"SVC\": svc\n",
    "}\n",
    "\n",
    "dater = pd.DataFrame([obj])\n",
    "\n",
    "dater"
   ]
  },
  {
   "cell_type": "code",
   "execution_count": 59,
   "metadata": {},
   "outputs": [
    {
     "data": {
      "text/plain": [
       "<matplotlib.axes._subplots.AxesSubplot at 0x1a12960748>"
      ]
     },
     "execution_count": 59,
     "metadata": {},
     "output_type": "execute_result"
    },
    {
     "data": {
      "image/png": "[encoded data removed]",
      "text/plain": [
       "<matplotlib.figure.Figure at 0x1a129fe978>"
      ]
     },
     "metadata": {},
     "output_type": "display_data"
    }
   ],
   "source": [
    "df.boxplot(y=\"petal length (cm)\")\n"
   ]
  },
  {
   "cell_type": "code",
   "execution_count": null,
   "metadata": {
    "collapsed": true
   },
   "outputs": [],
   "source": []
  }
 ],
 "metadata": {
  "kernelspec": {
   "display_name": "Python 3",
   "language": "python",
   "name": "python3"
  },
  "language_info": {
   "codemirror_mode": {
    "name": "ipython",
    "version": 3
   },
   "file_extension": ".py",
   "mimetype": "text/x-python",
   "name": "python",
   "nbconvert_exporter": "python",
   "pygments_lexer": "ipython3",
   "version": "3.6.2"
  }
 },
 "nbformat": 4,
 "nbformat_minor": 1
}
